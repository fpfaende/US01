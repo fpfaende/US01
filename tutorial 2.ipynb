{
 "cells": [
  {
   "cell_type": "markdown",
   "metadata": {},
   "source": [
    "# tutorial 2\n",
    "\n",
    "today we analyze an excel file"
   ]
  },
  {
   "cell_type": "code",
   "execution_count": 2,
   "metadata": {},
   "outputs": [],
   "source": [
    "import pandas as pd\n"
   ]
  },
  {
   "cell_type": "markdown",
   "metadata": {},
   "source": [
    "## open excel with pandas and put in dataframe"
   ]
  },
  {
   "cell_type": "code",
   "execution_count": 61,
   "metadata": {},
   "outputs": [],
   "source": [
    "df = pd.read_excel('/Users/fabien/desktop/Data-sheet-STUDENTS.xlsx',\n",
    "             header=2,\n",
    "            usecols=[1],\n",
    "              names=['countries']\n",
    "             )"
   ]
  },
  {
   "cell_type": "code",
   "execution_count": 17,
   "metadata": {},
   "outputs": [
    {
     "data": {
      "text/plain": [
       "{'Afghanistan': {},\n",
       " 'Albania': {},\n",
       " 'Armenia': {},\n",
       " 'Azerbaijan': {},\n",
       " 'Bahrain': {},\n",
       " 'Bangladesh': {},\n",
       " 'Belarus': {},\n",
       " 'Bhutan': {},\n",
       " 'Bosnia and Herzegovina': {},\n",
       " 'Brunei': {},\n",
       " 'Bulgaria': {},\n",
       " 'Cambodia': {},\n",
       " 'China': {},\n",
       " 'Croatia': {},\n",
       " 'Czech Republic': {},\n",
       " 'East Timor': {},\n",
       " 'Egypt': {},\n",
       " 'Estonia': {},\n",
       " 'France (Not BRI)': {},\n",
       " 'Georgia': {},\n",
       " 'Germany (not BRI)': {},\n",
       " 'Hungary': {},\n",
       " 'India': {},\n",
       " 'Indonesia': {},\n",
       " 'Iran': {},\n",
       " 'Iraq': {},\n",
       " 'Israel': {},\n",
       " 'Jordan': {},\n",
       " 'Kazakhstan': {},\n",
       " 'Kuwait': {},\n",
       " 'Kyrgyzstan': {},\n",
       " 'Laos': {},\n",
       " 'Latvia': {},\n",
       " 'Lebanon': {},\n",
       " 'Lithuania': {},\n",
       " 'Macedonia': {},\n",
       " 'Malaysia': {},\n",
       " 'Maldives': {},\n",
       " 'Moldova': {},\n",
       " 'Mongolia': {},\n",
       " 'Montenegro': {},\n",
       " 'Myanmar': {},\n",
       " 'Nepal': {},\n",
       " 'Oman': {},\n",
       " 'Pakistan': {},\n",
       " 'Philippines': {},\n",
       " 'Poland': {},\n",
       " 'Qatar': {},\n",
       " 'Romania': {},\n",
       " 'Russia': {},\n",
       " 'Saudi Arabia': {},\n",
       " 'Serbia': {},\n",
       " 'Singapore': {},\n",
       " 'Slovakia': {},\n",
       " 'Slovenia': {},\n",
       " 'Sri Lanka': {},\n",
       " 'Syria': {},\n",
       " 'Tajikistan': {},\n",
       " 'Thailiand': {},\n",
       " 'The United Arab Emirates': {},\n",
       " 'Turkey': {},\n",
       " 'Turkmenistan': {},\n",
       " 'United Kingdom (Not BRI)': {},\n",
       " 'United States of America (Not BRI)': {},\n",
       " 'Ukraine': {},\n",
       " 'Uzbekistan': {},\n",
       " 'Vietnam': {},\n",
       " 'Yemen': {}}"
      ]
     },
     "execution_count": 17,
     "metadata": {},
     "output_type": "execute_result"
    }
   ],
   "source": [
    "countries= {}\n",
    "for country in df['countries']:\n",
    "    countries[country] = {}\n",
    "countries"
   ]
  },
  {
   "cell_type": "code",
   "execution_count": 26,
   "metadata": {},
   "outputs": [
    {
     "data": {
      "application/vnd.jupyter.widget-view+json": {
       "model_id": "4cfe2c8924674cffb33f43534a118ab9",
       "version_major": 2,
       "version_minor": 0
      },
      "text/plain": [
       "HBox(children=(IntProgress(value=0, max=68), HTML(value='')))"
      ]
     },
     "metadata": {},
     "output_type": "display_data"
    },
    {
     "name": "stdout",
     "output_type": "stream",
     "text": [
      "{'status': 404, 'message': 'Not Found'}\n",
      "{'status': 404, 'message': 'Not Found'}\n",
      "{'status': 404, 'message': 'Not Found'}\n",
      "{'status': 404, 'message': 'Not Found'}\n",
      "{'status': 404, 'message': 'Not Found'}\n",
      "{'status': 404, 'message': 'Not Found'}\n"
     ]
    }
   ],
   "source": [
    "import requests\n",
    "#from tqdm import tnrange, tqdm_notebook\n",
    "#from time import sleep\n",
    "\n",
    "#for i in tnrange(len(countries.keys())):\n",
    "for country in countries.keys():\n",
    "    try:\n",
    "#        country = list(countries.keys())[i]\n",
    "        url = 'https://restcountries.eu/rest/v2/name/'+country\n",
    "        r = requests.get(url)\n",
    "        data = r.json()\n",
    "        countries[country]['alpha2code']=data[0]['alpha2Code']\n",
    "    except KeyError:\n",
    "        print(data)\n",
    "        sleep(5)"
   ]
  },
  {
   "cell_type": "code",
   "execution_count": 35,
   "metadata": {},
   "outputs": [],
   "source": [
    "for k,v in countries.items():\n",
    "    country = ''\n",
    "    if len(v.keys()) == 0:\n",
    "        if 'not bri' in k.lower():\n",
    "            country = k.split('(')[0].strip()\n",
    "        elif k == 'Thailiand':\n",
    "            country ='thailand'\n",
    "        else:\n",
    "            country = k[4:]\n",
    "        try:\n",
    "            url = 'https://restcountries.eu/rest/v2/name/'+country\n",
    "            r = requests.get(url)\n",
    "            data = r.json()\n",
    "            countries[k]['alpha2code']=data[0]['alpha2Code']\n",
    "        except KeyError:\n",
    "            print(data)\n",
    "            sleep(5)"
   ]
  },
  {
   "cell_type": "code",
   "execution_count": 44,
   "metadata": {
    "collapsed": true
   },
   "outputs": [
    {
     "name": "stdout",
     "output_type": "stream",
     "text": [
      "India has an index problem [{'message': [{'id': '120', 'key': 'Invalid value', 'value': 'The provided parameter value is not valid'}]}]\n",
      "Syria has an type problem [{'page': 1, 'pages': 2, 'per_page': 50, 'lastupdated': '2018-10-18', 'total': 58}, [{'indicator': {'id': 'NY.GDP.MKTP.CD', 'value': 'GDP (current US$)'}, 'country': {'id': 'SY', 'value': 'Syrian Arab Republic'}, 'countryiso3code': 'SYR', 'date': '2017', 'value': None, 'unit': '', 'obs_status': '', 'decimal': 0}, {'indicator': {'id': 'NY.GDP.MKTP.CD', 'value': 'GDP (current US$)'}, 'country': {'id': 'SY', 'value': 'Syrian Arab Republic'}, 'countryiso3code': 'SYR', 'date': '2016', 'value': None, 'unit': '', 'obs_status': '', 'decimal': 0}, {'indicator': {'id': 'NY.GDP.MKTP.CD', 'value': 'GDP (current US$)'}, 'country': {'id': 'SY', 'value': 'Syrian Arab Republic'}, 'countryiso3code': 'SYR', 'date': '2015', 'value': None, 'unit': '', 'obs_status': '', 'decimal': 0}, {'indicator': {'id': 'NY.GDP.MKTP.CD', 'value': 'GDP (current US$)'}, 'country': {'id': 'SY', 'value': 'Syrian Arab Republic'}, 'countryiso3code': 'SYR', 'date': '2014', 'value': None, 'unit': '', 'obs_status': '', 'decimal': 0}, {'indicator': {'id': 'NY.GDP.MKTP.CD', 'value': 'GDP (current US$)'}, 'country': {'id': 'SY', 'value': 'Syrian Arab Republic'}, 'countryiso3code': 'SYR', 'date': '2013', 'value': None, 'unit': '', 'obs_status': '', 'decimal': 0}, {'indicator': {'id': 'NY.GDP.MKTP.CD', 'value': 'GDP (current US$)'}, 'country': {'id': 'SY', 'value': 'Syrian Arab Republic'}, 'countryiso3code': 'SYR', 'date': '2012', 'value': None, 'unit': '', 'obs_status': '', 'decimal': 0}, {'indicator': {'id': 'NY.GDP.MKTP.CD', 'value': 'GDP (current US$)'}, 'country': {'id': 'SY', 'value': 'Syrian Arab Republic'}, 'countryiso3code': 'SYR', 'date': '2011', 'value': None, 'unit': '', 'obs_status': '', 'decimal': 0}, {'indicator': {'id': 'NY.GDP.MKTP.CD', 'value': 'GDP (current US$)'}, 'country': {'id': 'SY', 'value': 'Syrian Arab Republic'}, 'countryiso3code': 'SYR', 'date': '2010', 'value': None, 'unit': '', 'obs_status': '', 'decimal': 0}, {'indicator': {'id': 'NY.GDP.MKTP.CD', 'value': 'GDP (current US$)'}, 'country': {'id': 'SY', 'value': 'Syrian Arab Republic'}, 'countryiso3code': 'SYR', 'date': '2009', 'value': None, 'unit': '', 'obs_status': '', 'decimal': 0}, {'indicator': {'id': 'NY.GDP.MKTP.CD', 'value': 'GDP (current US$)'}, 'country': {'id': 'SY', 'value': 'Syrian Arab Republic'}, 'countryiso3code': 'SYR', 'date': '2008', 'value': None, 'unit': '', 'obs_status': '', 'decimal': 0}, {'indicator': {'id': 'NY.GDP.MKTP.CD', 'value': 'GDP (current US$)'}, 'country': {'id': 'SY', 'value': 'Syrian Arab Republic'}, 'countryiso3code': 'SYR', 'date': '2007', 'value': 40405006007.2086, 'unit': '', 'obs_status': '', 'decimal': 0}, {'indicator': {'id': 'NY.GDP.MKTP.CD', 'value': 'GDP (current US$)'}, 'country': {'id': 'SY', 'value': 'Syrian Arab Republic'}, 'countryiso3code': 'SYR', 'date': '2006', 'value': 33332844574.7801, 'unit': '', 'obs_status': '', 'decimal': 0}, {'indicator': {'id': 'NY.GDP.MKTP.CD', 'value': 'GDP (current US$)'}, 'country': {'id': 'SY', 'value': 'Syrian Arab Republic'}, 'countryiso3code': 'SYR', 'date': '2005', 'value': 28858965517.2414, 'unit': '', 'obs_status': '', 'decimal': 0}, {'indicator': {'id': 'NY.GDP.MKTP.CD', 'value': 'GDP (current US$)'}, 'country': {'id': 'SY', 'value': 'Syrian Arab Republic'}, 'countryiso3code': 'SYR', 'date': '2004', 'value': 25086930693.0693, 'unit': '', 'obs_status': '', 'decimal': 0}, {'indicator': {'id': 'NY.GDP.MKTP.CD', 'value': 'GDP (current US$)'}, 'country': {'id': 'SY', 'value': 'Syrian Arab Republic'}, 'countryiso3code': 'SYR', 'date': '2003', 'value': 21828144686.0394, 'unit': '', 'obs_status': '', 'decimal': 0}, {'indicator': {'id': 'NY.GDP.MKTP.CD', 'value': 'GDP (current US$)'}, 'country': {'id': 'SY', 'value': 'Syrian Arab Republic'}, 'countryiso3code': 'SYR', 'date': '2002', 'value': 21582248881.6592, 'unit': '', 'obs_status': '', 'decimal': 0}, {'indicator': {'id': 'NY.GDP.MKTP.CD', 'value': 'GDP (current US$)'}, 'country': {'id': 'SY', 'value': 'Syrian Arab Republic'}, 'countryiso3code': 'SYR', 'date': '2001', 'value': 21099833783.503, 'unit': '', 'obs_status': '', 'decimal': 0}, {'indicator': {'id': 'NY.GDP.MKTP.CD', 'value': 'GDP (current US$)'}, 'country': {'id': 'SY', 'value': 'Syrian Arab Republic'}, 'countryiso3code': 'SYR', 'date': '2000', 'value': 19325894913.1254, 'unit': '', 'obs_status': '', 'decimal': 0}, {'indicator': {'id': 'NY.GDP.MKTP.CD', 'value': 'GDP (current US$)'}, 'country': {'id': 'SY', 'value': 'Syrian Arab Republic'}, 'countryiso3code': 'SYR', 'date': '1999', 'value': 15873875968.9922, 'unit': '', 'obs_status': '', 'decimal': 0}, {'indicator': {'id': 'NY.GDP.MKTP.CD', 'value': 'GDP (current US$)'}, 'country': {'id': 'SY', 'value': 'Syrian Arab Republic'}, 'countryiso3code': 'SYR', 'date': '1998', 'value': 15200846138.4615, 'unit': '', 'obs_status': '', 'decimal': 0}, {'indicator': {'id': 'NY.GDP.MKTP.CD', 'value': 'GDP (current US$)'}, 'country': {'id': 'SY', 'value': 'Syrian Arab Republic'}, 'countryiso3code': 'SYR', 'date': '1997', 'value': 14505233968.8716, 'unit': '', 'obs_status': '', 'decimal': 0}, {'indicator': {'id': 'NY.GDP.MKTP.CD', 'value': 'GDP (current US$)'}, 'country': {'id': 'SY', 'value': 'Syrian Arab Republic'}, 'countryiso3code': 'SYR', 'date': '1996', 'value': 13789560878.2435, 'unit': '', 'obs_status': '', 'decimal': 0}, {'indicator': {'id': 'NY.GDP.MKTP.CD', 'value': 'GDP (current US$)'}, 'country': {'id': 'SY', 'value': 'Syrian Arab Republic'}, 'countryiso3code': 'SYR', 'date': '1995', 'value': 11396706586.8263, 'unit': '', 'obs_status': '', 'decimal': 0}, {'indicator': {'id': 'NY.GDP.MKTP.CD', 'value': 'GDP (current US$)'}, 'country': {'id': 'SY', 'value': 'Syrian Arab Republic'}, 'countryiso3code': 'SYR', 'date': '1994', 'value': 10122020000, 'unit': '', 'obs_status': '', 'decimal': 0}, {'indicator': {'id': 'NY.GDP.MKTP.CD', 'value': 'GDP (current US$)'}, 'country': {'id': 'SY', 'value': 'Syrian Arab Republic'}, 'countryiso3code': 'SYR', 'date': '1993', 'value': 13695962019.2084, 'unit': '', 'obs_status': '', 'decimal': 0}, {'indicator': {'id': 'NY.GDP.MKTP.CD', 'value': 'GDP (current US$)'}, 'country': {'id': 'SY', 'value': 'Syrian Arab Republic'}, 'countryiso3code': 'SYR', 'date': '1992', 'value': 13253565898.9558, 'unit': '', 'obs_status': '', 'decimal': 0}, {'indicator': {'id': 'NY.GDP.MKTP.CD', 'value': 'GDP (current US$)'}, 'country': {'id': 'SY', 'value': 'Syrian Arab Republic'}, 'countryiso3code': 'SYR', 'date': '1991', 'value': 12981833333.3333, 'unit': '', 'obs_status': '', 'decimal': 0}, {'indicator': {'id': 'NY.GDP.MKTP.CD', 'value': 'GDP (current US$)'}, 'country': {'id': 'SY', 'value': 'Syrian Arab Republic'}, 'countryiso3code': 'SYR', 'date': '1990', 'value': 12308624283.9787, 'unit': '', 'obs_status': '', 'decimal': 0}, {'indicator': {'id': 'NY.GDP.MKTP.CD', 'value': 'GDP (current US$)'}, 'country': {'id': 'SY', 'value': 'Syrian Arab Republic'}, 'countryiso3code': 'SYR', 'date': '1989', 'value': 9853396225.58749, 'unit': '', 'obs_status': '', 'decimal': 0}, {'indicator': {'id': 'NY.GDP.MKTP.CD', 'value': 'GDP (current US$)'}, 'country': {'id': 'SY', 'value': 'Syrian Arab Republic'}, 'countryiso3code': 'SYR', 'date': '1988', 'value': 10577042354.799, 'unit': '', 'obs_status': '', 'decimal': 0}, {'indicator': {'id': 'NY.GDP.MKTP.CD', 'value': 'GDP (current US$)'}, 'country': {'id': 'SY', 'value': 'Syrian Arab Republic'}, 'countryiso3code': 'SYR', 'date': '1987', 'value': 11356215712.9326, 'unit': '', 'obs_status': '', 'decimal': 0}, {'indicator': {'id': 'NY.GDP.MKTP.CD', 'value': 'GDP (current US$)'}, 'country': {'id': 'SY', 'value': 'Syrian Arab Republic'}, 'countryiso3code': 'SYR', 'date': '1986', 'value': 13293209270.1036, 'unit': '', 'obs_status': '', 'decimal': 0}, {'indicator': {'id': 'NY.GDP.MKTP.CD', 'value': 'GDP (current US$)'}, 'country': {'id': 'SY', 'value': 'Syrian Arab Republic'}, 'countryiso3code': 'SYR', 'date': '1985', 'value': 16403544510.5268, 'unit': '', 'obs_status': '', 'decimal': 0}, {'indicator': {'id': 'NY.GDP.MKTP.CD', 'value': 'GDP (current US$)'}, 'country': {'id': 'SY', 'value': 'Syrian Arab Republic'}, 'countryiso3code': 'SYR', 'date': '1984', 'value': 17503082982.2832, 'unit': '', 'obs_status': '', 'decimal': 0}, {'indicator': {'id': 'NY.GDP.MKTP.CD', 'value': 'GDP (current US$)'}, 'country': {'id': 'SY', 'value': 'Syrian Arab Republic'}, 'countryiso3code': 'SYR', 'date': '1983', 'value': 17589184556.6946, 'unit': '', 'obs_status': '', 'decimal': 0}, {'indicator': {'id': 'NY.GDP.MKTP.CD', 'value': 'GDP (current US$)'}, 'country': {'id': 'SY', 'value': 'Syrian Arab Republic'}, 'countryiso3code': 'SYR', 'date': '1982', 'value': 16298905397.0701, 'unit': '', 'obs_status': '', 'decimal': 0}, {'indicator': {'id': 'NY.GDP.MKTP.CD', 'value': 'GDP (current US$)'}, 'country': {'id': 'SY', 'value': 'Syrian Arab Republic'}, 'countryiso3code': 'SYR', 'date': '1981', 'value': 15518199247.3393, 'unit': '', 'obs_status': '', 'decimal': 0}, {'indicator': {'id': 'NY.GDP.MKTP.CD', 'value': 'GDP (current US$)'}, 'country': {'id': 'SY', 'value': 'Syrian Arab Republic'}, 'countryiso3code': 'SYR', 'date': '1980', 'value': 13062421024.9337, 'unit': '', 'obs_status': '', 'decimal': 0}, {'indicator': {'id': 'NY.GDP.MKTP.CD', 'value': 'GDP (current US$)'}, 'country': {'id': 'SY', 'value': 'Syrian Arab Republic'}, 'countryiso3code': 'SYR', 'date': '1979', 'value': 9929682184.32718, 'unit': '', 'obs_status': '', 'decimal': 0}, {'indicator': {'id': 'NY.GDP.MKTP.CD', 'value': 'GDP (current US$)'}, 'country': {'id': 'SY', 'value': 'Syrian Arab Republic'}, 'countryiso3code': 'SYR', 'date': '1978', 'value': 9275203105.57946, 'unit': '', 'obs_status': '', 'decimal': 0}, {'indicator': {'id': 'NY.GDP.MKTP.CD', 'value': 'GDP (current US$)'}, 'country': {'id': 'SY', 'value': 'Syrian Arab Republic'}, 'countryiso3code': 'SYR', 'date': '1977', 'value': 7696011359.94156, 'unit': '', 'obs_status': '', 'decimal': 0}, {'indicator': {'id': 'NY.GDP.MKTP.CD', 'value': 'GDP (current US$)'}, 'country': {'id': 'SY', 'value': 'Syrian Arab Republic'}, 'countryiso3code': 'SYR', 'date': '1976', 'value': 7633528920.63247, 'unit': '', 'obs_status': '', 'decimal': 0}, {'indicator': {'id': 'NY.GDP.MKTP.CD', 'value': 'GDP (current US$)'}, 'country': {'id': 'SY', 'value': 'Syrian Arab Republic'}, 'countryiso3code': 'SYR', 'date': '1975', 'value': 6826980766.8048, 'unit': '', 'obs_status': '', 'decimal': 0}, {'indicator': {'id': 'NY.GDP.MKTP.CD', 'value': 'GDP (current US$)'}, 'country': {'id': 'SY', 'value': 'Syrian Arab Republic'}, 'countryiso3code': 'SYR', 'date': '1974', 'value': 5159557176.25012, 'unit': '', 'obs_status': '', 'decimal': 0}, {'indicator': {'id': 'NY.GDP.MKTP.CD', 'value': 'GDP (current US$)'}, 'country': {'id': 'SY', 'value': 'Syrian Arab Republic'}, 'countryiso3code': 'SYR', 'date': '1973', 'value': 3239488104.60091, 'unit': '', 'obs_status': '', 'decimal': 0}, {'indicator': {'id': 'NY.GDP.MKTP.CD', 'value': 'GDP (current US$)'}, 'country': {'id': 'SY', 'value': 'Syrian Arab Republic'}, 'countryiso3code': 'SYR', 'date': '1972', 'value': 3059682162.06566, 'unit': '', 'obs_status': '', 'decimal': 0}, {'indicator': {'id': 'NY.GDP.MKTP.CD', 'value': 'GDP (current US$)'}, 'country': {'id': 'SY', 'value': 'Syrian Arab Republic'}, 'countryiso3code': 'SYR', 'date': '1971', 'value': 2589851693.01656, 'unit': '', 'obs_status': '', 'decimal': 0}, {'indicator': {'id': 'NY.GDP.MKTP.CD', 'value': 'GDP (current US$)'}, 'country': {'id': 'SY', 'value': 'Syrian Arab Republic'}, 'countryiso3code': 'SYR', 'date': '1970', 'value': 2140383695.94618, 'unit': '', 'obs_status': '', 'decimal': 0}, {'indicator': {'id': 'NY.GDP.MKTP.CD', 'value': 'GDP (current US$)'}, 'country': {'id': 'SY', 'value': 'Syrian Arab Republic'}, 'countryiso3code': 'SYR', 'date': '1969', 'value': 2245011571.98652, 'unit': '', 'obs_status': '', 'decimal': 0}, {'indicator': {'id': 'NY.GDP.MKTP.CD', 'value': 'GDP (current US$)'}, 'country': {'id': 'SY', 'value': 'Syrian Arab Republic'}, 'countryiso3code': 'SYR', 'date': '1968', 'value': 1753746369.66049, 'unit': '', 'obs_status': '', 'decimal': 0}]]\n",
      "Yemen has an type problem [{'page': 1, 'pages': 2, 'per_page': 50, 'lastupdated': '2018-10-18', 'total': 58}, [{'indicator': {'id': 'NY.GDP.MKTP.CD', 'value': 'GDP (current US$)'}, 'country': {'id': 'YE', 'value': 'Yemen, Rep.'}, 'countryiso3code': 'YEM', 'date': '2017', 'value': None, 'unit': '', 'obs_status': '', 'decimal': 0}, {'indicator': {'id': 'NY.GDP.MKTP.CD', 'value': 'GDP (current US$)'}, 'country': {'id': 'YE', 'value': 'Yemen, Rep.'}, 'countryiso3code': 'YEM', 'date': '2016', 'value': 18213328571.4286, 'unit': '', 'obs_status': '', 'decimal': 0}, {'indicator': {'id': 'NY.GDP.MKTP.CD', 'value': 'GDP (current US$)'}, 'country': {'id': 'YE', 'value': 'Yemen, Rep.'}, 'countryiso3code': 'YEM', 'date': '2015', 'value': 34602480338.778, 'unit': '', 'obs_status': '', 'decimal': 0}, {'indicator': {'id': 'NY.GDP.MKTP.CD', 'value': 'GDP (current US$)'}, 'country': {'id': 'YE', 'value': 'Yemen, Rep.'}, 'countryiso3code': 'YEM', 'date': '2014', 'value': 43228582065.2427, 'unit': '', 'obs_status': '', 'decimal': 0}, {'indicator': {'id': 'NY.GDP.MKTP.CD', 'value': 'GDP (current US$)'}, 'country': {'id': 'YE', 'value': 'Yemen, Rep.'}, 'countryiso3code': 'YEM', 'date': '2013', 'value': 40415235701.9871, 'unit': '', 'obs_status': '', 'decimal': 0}, {'indicator': {'id': 'NY.GDP.MKTP.CD', 'value': 'GDP (current US$)'}, 'country': {'id': 'YE', 'value': 'Yemen, Rep.'}, 'countryiso3code': 'YEM', 'date': '2012', 'value': 35401325143.6179, 'unit': '', 'obs_status': '', 'decimal': 0}, {'indicator': {'id': 'NY.GDP.MKTP.CD', 'value': 'GDP (current US$)'}, 'country': {'id': 'YE', 'value': 'Yemen, Rep.'}, 'countryiso3code': 'YEM', 'date': '2011', 'value': 32726417212.348, 'unit': '', 'obs_status': '', 'decimal': 0}, {'indicator': {'id': 'NY.GDP.MKTP.CD', 'value': 'GDP (current US$)'}, 'country': {'id': 'YE', 'value': 'Yemen, Rep.'}, 'countryiso3code': 'YEM', 'date': '2010', 'value': 30906748941.2086, 'unit': '', 'obs_status': '', 'decimal': 0}, {'indicator': {'id': 'NY.GDP.MKTP.CD', 'value': 'GDP (current US$)'}, 'country': {'id': 'YE', 'value': 'Yemen, Rep.'}, 'countryiso3code': 'YEM', 'date': '2009', 'value': 25130274124.2524, 'unit': '', 'obs_status': '', 'decimal': 0}, {'indicator': {'id': 'NY.GDP.MKTP.CD', 'value': 'GDP (current US$)'}, 'country': {'id': 'YE', 'value': 'Yemen, Rep.'}, 'countryiso3code': 'YEM', 'date': '2008', 'value': 26910851361.7555, 'unit': '', 'obs_status': '', 'decimal': 0}, {'indicator': {'id': 'NY.GDP.MKTP.CD', 'value': 'GDP (current US$)'}, 'country': {'id': 'YE', 'value': 'Yemen, Rep.'}, 'countryiso3code': 'YEM', 'date': '2007', 'value': 21656517484.2538, 'unit': '', 'obs_status': '', 'decimal': 0}, {'indicator': {'id': 'NY.GDP.MKTP.CD', 'value': 'GDP (current US$)'}, 'country': {'id': 'YE', 'value': 'Yemen, Rep.'}, 'countryiso3code': 'YEM', 'date': '2006', 'value': 19081722875.3022, 'unit': '', 'obs_status': '', 'decimal': 0}, {'indicator': {'id': 'NY.GDP.MKTP.CD', 'value': 'GDP (current US$)'}, 'country': {'id': 'YE', 'value': 'Yemen, Rep.'}, 'countryiso3code': 'YEM', 'date': '2005', 'value': 16753769531.6987, 'unit': '', 'obs_status': '', 'decimal': 0}, {'indicator': {'id': 'NY.GDP.MKTP.CD', 'value': 'GDP (current US$)'}, 'country': {'id': 'YE', 'value': 'Yemen, Rep.'}, 'countryiso3code': 'YEM', 'date': '2004', 'value': 13873500887.5612, 'unit': '', 'obs_status': '', 'decimal': 0}, {'indicator': {'id': 'NY.GDP.MKTP.CD', 'value': 'GDP (current US$)'}, 'country': {'id': 'YE', 'value': 'Yemen, Rep.'}, 'countryiso3code': 'YEM', 'date': '2003', 'value': 11777768086.8693, 'unit': '', 'obs_status': '', 'decimal': 0}, {'indicator': {'id': 'NY.GDP.MKTP.CD', 'value': 'GDP (current US$)'}, 'country': {'id': 'YE', 'value': 'Yemen, Rep.'}, 'countryiso3code': 'YEM', 'date': '2002', 'value': 10693278291.8149, 'unit': '', 'obs_status': '', 'decimal': 0}, {'indicator': {'id': 'NY.GDP.MKTP.CD', 'value': 'GDP (current US$)'}, 'country': {'id': 'YE', 'value': 'Yemen, Rep.'}, 'countryiso3code': 'YEM', 'date': '2001', 'value': 9854042164.67463, 'unit': '', 'obs_status': '', 'decimal': 0}, {'indicator': {'id': 'NY.GDP.MKTP.CD', 'value': 'GDP (current US$)'}, 'country': {'id': 'YE', 'value': 'Yemen, Rep.'}, 'countryiso3code': 'YEM', 'date': '2000', 'value': 9636342274.82408, 'unit': '', 'obs_status': '', 'decimal': 0}, {'indicator': {'id': 'NY.GDP.MKTP.CD', 'value': 'GDP (current US$)'}, 'country': {'id': 'YE', 'value': 'Yemen, Rep.'}, 'countryiso3code': 'YEM', 'date': '1999', 'value': 7641101221.43876, 'unit': '', 'obs_status': '', 'decimal': 0}, {'indicator': {'id': 'NY.GDP.MKTP.CD', 'value': 'GDP (current US$)'}, 'country': {'id': 'YE', 'value': 'Yemen, Rep.'}, 'countryiso3code': 'YEM', 'date': '1998', 'value': 6325219772.93811, 'unit': '', 'obs_status': '', 'decimal': 0}, {'indicator': {'id': 'NY.GDP.MKTP.CD', 'value': 'GDP (current US$)'}, 'country': {'id': 'YE', 'value': 'Yemen, Rep.'}, 'countryiso3code': 'YEM', 'date': '1997', 'value': 6839039029.748, 'unit': '', 'obs_status': '', 'decimal': 0}, {'indicator': {'id': 'NY.GDP.MKTP.CD', 'value': 'GDP (current US$)'}, 'country': {'id': 'YE', 'value': 'Yemen, Rep.'}, 'countryiso3code': 'YEM', 'date': '1996', 'value': 5785685310.86668, 'unit': '', 'obs_status': '', 'decimal': 0}, {'indicator': {'id': 'NY.GDP.MKTP.CD', 'value': 'GDP (current US$)'}, 'country': {'id': 'YE', 'value': 'Yemen, Rep.'}, 'countryiso3code': 'YEM', 'date': '1995', 'value': 4258788725.44991, 'unit': '', 'obs_status': '', 'decimal': 0}, {'indicator': {'id': 'NY.GDP.MKTP.CD', 'value': 'GDP (current US$)'}, 'country': {'id': 'YE', 'value': 'Yemen, Rep.'}, 'countryiso3code': 'YEM', 'date': '1994', 'value': 4167356037.1517, 'unit': '', 'obs_status': '', 'decimal': 0}, {'indicator': {'id': 'NY.GDP.MKTP.CD', 'value': 'GDP (current US$)'}, 'country': {'id': 'YE', 'value': 'Yemen, Rep.'}, 'countryiso3code': 'YEM', 'date': '1993', 'value': 5368270614.8468, 'unit': '', 'obs_status': '', 'decimal': 0}, {'indicator': {'id': 'NY.GDP.MKTP.CD', 'value': 'GDP (current US$)'}, 'country': {'id': 'YE', 'value': 'Yemen, Rep.'}, 'countryiso3code': 'YEM', 'date': '1992', 'value': 6463649985.01648, 'unit': '', 'obs_status': '', 'decimal': 0}, {'indicator': {'id': 'NY.GDP.MKTP.CD', 'value': 'GDP (current US$)'}, 'country': {'id': 'YE', 'value': 'Yemen, Rep.'}, 'countryiso3code': 'YEM', 'date': '1991', 'value': 5930370370.37037, 'unit': '', 'obs_status': '', 'decimal': 0}, {'indicator': {'id': 'NY.GDP.MKTP.CD', 'value': 'GDP (current US$)'}, 'country': {'id': 'YE', 'value': 'Yemen, Rep.'}, 'countryiso3code': 'YEM', 'date': '1990', 'value': 5647251908.39695, 'unit': '', 'obs_status': '', 'decimal': 0}, {'indicator': {'id': 'NY.GDP.MKTP.CD', 'value': 'GDP (current US$)'}, 'country': {'id': 'YE', 'value': 'Yemen, Rep.'}, 'countryiso3code': 'YEM', 'date': '1989', 'value': None, 'unit': '', 'obs_status': '', 'decimal': 0}, {'indicator': {'id': 'NY.GDP.MKTP.CD', 'value': 'GDP (current US$)'}, 'country': {'id': 'YE', 'value': 'Yemen, Rep.'}, 'countryiso3code': 'YEM', 'date': '1988', 'value': None, 'unit': '', 'obs_status': '', 'decimal': 0}, {'indicator': {'id': 'NY.GDP.MKTP.CD', 'value': 'GDP (current US$)'}, 'country': {'id': 'YE', 'value': 'Yemen, Rep.'}, 'countryiso3code': 'YEM', 'date': '1987', 'value': None, 'unit': '', 'obs_status': '', 'decimal': 0}, {'indicator': {'id': 'NY.GDP.MKTP.CD', 'value': 'GDP (current US$)'}, 'country': {'id': 'YE', 'value': 'Yemen, Rep.'}, 'countryiso3code': 'YEM', 'date': '1986', 'value': None, 'unit': '', 'obs_status': '', 'decimal': 0}, {'indicator': {'id': 'NY.GDP.MKTP.CD', 'value': 'GDP (current US$)'}, 'country': {'id': 'YE', 'value': 'Yemen, Rep.'}, 'countryiso3code': 'YEM', 'date': '1985', 'value': None, 'unit': '', 'obs_status': '', 'decimal': 0}, {'indicator': {'id': 'NY.GDP.MKTP.CD', 'value': 'GDP (current US$)'}, 'country': {'id': 'YE', 'value': 'Yemen, Rep.'}, 'countryiso3code': 'YEM', 'date': '1984', 'value': None, 'unit': '', 'obs_status': '', 'decimal': 0}, {'indicator': {'id': 'NY.GDP.MKTP.CD', 'value': 'GDP (current US$)'}, 'country': {'id': 'YE', 'value': 'Yemen, Rep.'}, 'countryiso3code': 'YEM', 'date': '1983', 'value': None, 'unit': '', 'obs_status': '', 'decimal': 0}, {'indicator': {'id': 'NY.GDP.MKTP.CD', 'value': 'GDP (current US$)'}, 'country': {'id': 'YE', 'value': 'Yemen, Rep.'}, 'countryiso3code': 'YEM', 'date': '1982', 'value': None, 'unit': '', 'obs_status': '', 'decimal': 0}, {'indicator': {'id': 'NY.GDP.MKTP.CD', 'value': 'GDP (current US$)'}, 'country': {'id': 'YE', 'value': 'Yemen, Rep.'}, 'countryiso3code': 'YEM', 'date': '1981', 'value': None, 'unit': '', 'obs_status': '', 'decimal': 0}, {'indicator': {'id': 'NY.GDP.MKTP.CD', 'value': 'GDP (current US$)'}, 'country': {'id': 'YE', 'value': 'Yemen, Rep.'}, 'countryiso3code': 'YEM', 'date': '1980', 'value': None, 'unit': '', 'obs_status': '', 'decimal': 0}, {'indicator': {'id': 'NY.GDP.MKTP.CD', 'value': 'GDP (current US$)'}, 'country': {'id': 'YE', 'value': 'Yemen, Rep.'}, 'countryiso3code': 'YEM', 'date': '1979', 'value': None, 'unit': '', 'obs_status': '', 'decimal': 0}, {'indicator': {'id': 'NY.GDP.MKTP.CD', 'value': 'GDP (current US$)'}, 'country': {'id': 'YE', 'value': 'Yemen, Rep.'}, 'countryiso3code': 'YEM', 'date': '1978', 'value': None, 'unit': '', 'obs_status': '', 'decimal': 0}, {'indicator': {'id': 'NY.GDP.MKTP.CD', 'value': 'GDP (current US$)'}, 'country': {'id': 'YE', 'value': 'Yemen, Rep.'}, 'countryiso3code': 'YEM', 'date': '1977', 'value': None, 'unit': '', 'obs_status': '', 'decimal': 0}, {'indicator': {'id': 'NY.GDP.MKTP.CD', 'value': 'GDP (current US$)'}, 'country': {'id': 'YE', 'value': 'Yemen, Rep.'}, 'countryiso3code': 'YEM', 'date': '1976', 'value': None, 'unit': '', 'obs_status': '', 'decimal': 0}, {'indicator': {'id': 'NY.GDP.MKTP.CD', 'value': 'GDP (current US$)'}, 'country': {'id': 'YE', 'value': 'Yemen, Rep.'}, 'countryiso3code': 'YEM', 'date': '1975', 'value': None, 'unit': '', 'obs_status': '', 'decimal': 0}, {'indicator': {'id': 'NY.GDP.MKTP.CD', 'value': 'GDP (current US$)'}, 'country': {'id': 'YE', 'value': 'Yemen, Rep.'}, 'countryiso3code': 'YEM', 'date': '1974', 'value': None, 'unit': '', 'obs_status': '', 'decimal': 0}, {'indicator': {'id': 'NY.GDP.MKTP.CD', 'value': 'GDP (current US$)'}, 'country': {'id': 'YE', 'value': 'Yemen, Rep.'}, 'countryiso3code': 'YEM', 'date': '1973', 'value': None, 'unit': '', 'obs_status': '', 'decimal': 0}, {'indicator': {'id': 'NY.GDP.MKTP.CD', 'value': 'GDP (current US$)'}, 'country': {'id': 'YE', 'value': 'Yemen, Rep.'}, 'countryiso3code': 'YEM', 'date': '1972', 'value': None, 'unit': '', 'obs_status': '', 'decimal': 0}, {'indicator': {'id': 'NY.GDP.MKTP.CD', 'value': 'GDP (current US$)'}, 'country': {'id': 'YE', 'value': 'Yemen, Rep.'}, 'countryiso3code': 'YEM', 'date': '1971', 'value': None, 'unit': '', 'obs_status': '', 'decimal': 0}, {'indicator': {'id': 'NY.GDP.MKTP.CD', 'value': 'GDP (current US$)'}, 'country': {'id': 'YE', 'value': 'Yemen, Rep.'}, 'countryiso3code': 'YEM', 'date': '1970', 'value': None, 'unit': '', 'obs_status': '', 'decimal': 0}, {'indicator': {'id': 'NY.GDP.MKTP.CD', 'value': 'GDP (current US$)'}, 'country': {'id': 'YE', 'value': 'Yemen, Rep.'}, 'countryiso3code': 'YEM', 'date': '1969', 'value': None, 'unit': '', 'obs_status': '', 'decimal': 0}, {'indicator': {'id': 'NY.GDP.MKTP.CD', 'value': 'GDP (current US$)'}, 'country': {'id': 'YE', 'value': 'Yemen, Rep.'}, 'countryiso3code': 'YEM', 'date': '1968', 'value': None, 'unit': '', 'obs_status': '', 'decimal': 0}]]\n"
     ]
    }
   ],
   "source": [
    "for k,v in countries.items():\n",
    "    try : \n",
    "        url = 'http://api.worldbank.org/v2/countries/'+v['alpha2code']+'/indicators/NY.GDP.MKTP.CD?format=json'\n",
    "        r = requests.get(url)\n",
    "        data = r.json()\n",
    "        countries[k]['gdp'] = float(data[1][0]['value'])\n",
    "        sleep(2)\n",
    "    except IndexError:\n",
    "        print(k,'has an index problem', data)\n",
    "    except TypeError:\n",
    "        print(k,'has an type problem', data)"
   ]
  },
  {
   "cell_type": "code",
   "execution_count": 45,
   "metadata": {
    "collapsed": true
   },
   "outputs": [
    {
     "data": {
      "text/plain": [
       "{'Afghanistan': {'alpha2code': 'AF', 'gdp': 20815300220.0428},\n",
       " 'Albania': {'alpha2code': 'AL', 'gdp': 13039352743.9616},\n",
       " 'Armenia': {'alpha2code': 'AM', 'gdp': 11536590635.8268},\n",
       " 'Azerbaijan': {'alpha2code': 'AZ', 'gdp': 40747792237.9735},\n",
       " 'Bahrain': {'alpha2code': 'BH', 'gdp': 35307127659.5745},\n",
       " 'Bangladesh': {'alpha2code': 'BD', 'gdp': 249723887765.42},\n",
       " 'Belarus': {'alpha2code': 'BY', 'gdp': 54442374372.5094},\n",
       " 'Bhutan': {'alpha2code': 'BT', 'gdp': 2511852941.17647},\n",
       " 'Bosnia and Herzegovina': {'alpha2code': 'BA', 'gdp': 18168579578.1952},\n",
       " 'Brunei': {'alpha2code': 'BN', 'gdp': 12128089001.5858},\n",
       " 'Bulgaria': {'alpha2code': 'BG', 'gdp': 56831518294.4397},\n",
       " 'Cambodia': {'alpha2code': 'KH', 'gdp': 22158209502.6391},\n",
       " 'China': {'alpha2code': 'CN', 'gdp': 12237700479375.0},\n",
       " 'Croatia': {'alpha2code': 'HR', 'gdp': 54849180228.8716},\n",
       " 'Czech Republic': {'alpha2code': 'CZ', 'gdp': 215725534372.371},\n",
       " 'East Timor': {'alpha2code': 'TL', 'gdp': 2954620999.58441},\n",
       " 'Egypt': {'alpha2code': 'EG', 'gdp': 235369129337.711},\n",
       " 'Estonia': {'alpha2code': 'EE', 'gdp': 25921079612.3337},\n",
       " 'France (Not BRI)': {'alpha2code': 'FR', 'gdp': 2582501307216.42},\n",
       " 'Georgia': {'alpha2code': 'GE', 'gdp': 15159281211.3967},\n",
       " 'Germany (not BRI)': {'alpha2code': 'DE', 'gdp': 3677439129776.6},\n",
       " 'Hungary': {'alpha2code': 'HU', 'gdp': 139135029758.29},\n",
       " 'India': {'alpha2code': 'IO'},\n",
       " 'Indonesia': {'alpha2code': 'ID', 'gdp': 1015539017536.5},\n",
       " 'Iran': {'alpha2code': 'IR', 'gdp': 439513511620.591},\n",
       " 'Iraq': {'alpha2code': 'IQ', 'gdp': 197715736040.609},\n",
       " 'Israel': {'alpha2code': 'IL', 'gdp': 350850537827.281},\n",
       " 'Jordan': {'alpha2code': 'JO', 'gdp': 40068308516.2755},\n",
       " 'Kazakhstan': {'alpha2code': 'KZ', 'gdp': 159406926359.122},\n",
       " 'Kuwait': {'alpha2code': 'KW', 'gdp': 120126277612.925},\n",
       " 'Kyrgyzstan': {'alpha2code': 'KG', 'gdp': 7564738836.04122},\n",
       " 'Laos': {'alpha2code': 'LA', 'gdp': 16853079615.3519},\n",
       " 'Latvia': {'alpha2code': 'LV', 'gdp': 30264454641.8004},\n",
       " 'Lebanon': {'alpha2code': 'LB', 'gdp': 51844487742.0232},\n",
       " 'Lithuania': {'alpha2code': 'LT', 'gdp': 47168303744.1329},\n",
       " 'Macedonia': {'alpha2code': 'MK', 'gdp': 11337827331.6809},\n",
       " 'Malaysia': {'alpha2code': 'MY', 'gdp': 314500279043.81},\n",
       " 'Maldives': {'alpha2code': 'MV', 'gdp': 4597083303.50693},\n",
       " 'Moldova': {'alpha2code': 'MD', 'gdp': 8128493432.07741},\n",
       " 'Mongolia': {'alpha2code': 'MN', 'gdp': 11488046881.0431},\n",
       " 'Montenegro': {'alpha2code': 'ME', 'gdp': 4774086094.2078},\n",
       " 'Myanmar': {'alpha2code': 'MM', 'gdp': 69322122755.8536},\n",
       " 'Nepal': {'alpha2code': 'NP', 'gdp': 24472013233.8472},\n",
       " 'Oman': {'alpha2code': 'OM', 'gdp': 72642652795.8387},\n",
       " 'Pakistan': {'alpha2code': 'PK', 'gdp': 304951818494.066},\n",
       " 'Philippines': {'alpha2code': 'PH', 'gdp': 313595208737.269},\n",
       " 'Poland': {'alpha2code': 'PL', 'gdp': 524509565263.409},\n",
       " 'Qatar': {'alpha2code': 'QA', 'gdp': 167605219780.22},\n",
       " 'Romania': {'alpha2code': 'RO', 'gdp': 211803281924.738},\n",
       " 'Russia': {'alpha2code': 'RU', 'gdp': 1577524145963.17},\n",
       " 'Saudi Arabia': {'alpha2code': 'SA', 'gdp': 683827144288.536},\n",
       " 'Serbia': {'alpha2code': 'RS', 'gdp': 41431648801.1663},\n",
       " 'Singapore': {'alpha2code': 'SG', 'gdp': 323907234412.34},\n",
       " 'Slovakia': {'alpha2code': 'SK', 'gdp': 95769031980.1362},\n",
       " 'Slovenia': {'alpha2code': 'SI', 'gdp': 48769655479.2388},\n",
       " 'Sri Lanka': {'alpha2code': 'LK', 'gdp': 87174682200.4324},\n",
       " 'Syria': {'alpha2code': 'SY'},\n",
       " 'Tajikistan': {'alpha2code': 'TJ', 'gdp': 7145701018.7492},\n",
       " 'Thailiand': {'alpha2code': 'TH', 'gdp': 455220920571.129},\n",
       " 'The United Arab Emirates': {'alpha2code': 'AE', 'gdp': 382575085091.899},\n",
       " 'Turkey': {'alpha2code': 'TR', 'gdp': 851102411118.116},\n",
       " 'Turkmenistan': {'alpha2code': 'TM', 'gdp': 42355428571.4286},\n",
       " 'United Kingdom (Not BRI)': {'alpha2code': 'GB', 'gdp': 2622433959604.16},\n",
       " 'United States of America (Not BRI)': {'alpha2code': 'US',\n",
       "  'gdp': 19390604000000.0},\n",
       " 'Ukraine': {'alpha2code': 'UA', 'gdp': 112154185121.406},\n",
       " 'Uzbekistan': {'alpha2code': 'UZ', 'gdp': 48717685984.0278},\n",
       " 'Vietnam': {'alpha2code': 'VN', 'gdp': 223863996354.655},\n",
       " 'Yemen': {'alpha2code': 'YE'}}"
      ]
     },
     "execution_count": 45,
     "metadata": {},
     "output_type": "execute_result"
    }
   ],
   "source": [
    "countries"
   ]
  },
  {
   "cell_type": "code",
   "execution_count": 49,
   "metadata": {},
   "outputs": [],
   "source": [
    "countries['India']['alpha2code']='IN'\n",
    "url = 'http://api.worldbank.org/v2/countries/IN/indicators/NY.GDP.MKTP.CD?format=json'\n",
    "r = requests.get(url)\n",
    "data = r.json()\n",
    "countries['India']['gdp'] = float(data[1][0]['value'])"
   ]
  },
  {
   "cell_type": "code",
   "execution_count": 59,
   "metadata": {},
   "outputs": [],
   "source": [
    "countries['Yemen']['gdp'] = None\n",
    "countries['Syria']['gdp'] = None"
   ]
  },
  {
   "cell_type": "code",
   "execution_count": 63,
   "metadata": {},
   "outputs": [],
   "source": [
    "s = pd.Series([v['gdp'] for k,v in countries.items()])"
   ]
  },
  {
   "cell_type": "code",
   "execution_count": 66,
   "metadata": {},
   "outputs": [],
   "source": [
    "df['gdp'] = s"
   ]
  },
  {
   "cell_type": "code",
   "execution_count": 69,
   "metadata": {},
   "outputs": [
    {
     "data": {
      "text/plain": [
       "<matplotlib.axes._subplots.AxesSubplot at 0x109a2f320>"
      ]
     },
     "execution_count": 69,
     "metadata": {},
     "output_type": "execute_result"
    },
    {
     "data": {
      "image/png": "[encoded data removed]",
      "text/plain": [
       "<Figure size 432x288 with 1 Axes>"
      ]
     },
     "metadata": {
      "needs_background": "light"
     },
     "output_type": "display_data"
    }
   ],
   "source": [
    "%matplotlib inline\n",
    "import matplotlib.pyplot as plt\n",
    "df.plot()"
   ]
  },
  {
   "cell_type": "code",
   "execution_count": 71,
   "metadata": {},
   "outputs": [],
   "source": [
    "writer = pd.ExcelWriter('output.xlsx')\n",
    "df.to_excel(writer,'Sheet1')\n",
    "writer.save()\n"
   ]
  },
  {
   "cell_type": "code",
   "execution_count": null,
   "metadata": {},
   "outputs": [],
   "source": []
  }
 ],
 "metadata": {
  "kernelspec": {
   "display_name": "Python 3",
   "language": "python",
   "name": "python3"
  },
  "language_info": {
   "codemirror_mode": {
    "name": "ipython",
    "version": 3
   },
   "file_extension": ".py",
   "mimetype": "text/x-python",
   "name": "python",
   "nbconvert_exporter": "python",
   "pygments_lexer": "ipython3",
   "version": "3.7.0"
  }
 },
 "nbformat": 4,
 "nbformat_minor": 2
}
